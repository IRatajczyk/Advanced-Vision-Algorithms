{
 "cells": [
  {
   "cell_type": "code",
   "execution_count": null,
   "metadata": {},
   "outputs": [],
   "source": [
    "import cv2\n",
    "import matplotlib.pyplot as plt\n",
    "import numpy as np\n",
    "from typing import List, Iterable, Callable\n",
    "from utils import load_sequence, visualize, calculate_metrics, visualize_bounding_box"
   ]
  },
  {
   "cell_type": "code",
   "execution_count": null,
   "metadata": {},
   "outputs": [],
   "source": [
    "PEDESTRIAN_PATH: str = r\"C:\\Users\\igor\\Desktop\\Studia\\I\\Semestr6\\ZAW\\Lab2\\pedestrian\"\n",
    "OFFICE_PATH: str = r\"C:\\Users\\igor\\Desktop\\Studia\\I\\Semestr6\\ZAW\\Lab2\\office\"\n",
    "HIGHWAY_PATH: str = r\"C:\\Users\\igor\\Desktop\\Studia\\I\\Semestr6\\ZAW\\Lab2\\highway\\highway\""
   ]
  },
  {
   "cell_type": "code",
   "execution_count": null,
   "metadata": {},
   "outputs": [],
   "source": [
    "pedestrian_sequence: List[np.ndarray] = load_sequence(PEDESTRIAN_PATH)\n",
    "pedestrian_ground_truth: List[np.ndarray] = load_sequence(PEDESTRIAN_PATH, False)\n",
    "pedestrian_colour : List[np.ndarray] = load_sequence(PEDESTRIAN_PATH, True, False)\n",
    "\n",
    "office_sequence: List[np.ndarray] = load_sequence(OFFICE_PATH)\n",
    "office_ground_truth: List[np.ndarray] = load_sequence(OFFICE_PATH, False)\n",
    "office_colour : List[np.ndarray] = load_sequence(OFFICE_PATH, True, False)\n",
    "\n",
    "highway_sequence: List[np.ndarray] = load_sequence(HIGHWAY_PATH)\n",
    "highway_ground_truth: List[np.ndarray] = load_sequence(HIGHWAY_PATH, False)\n",
    "highway_colour : List[np.ndarray] = load_sequence(HIGHWAY_PATH, True, False)"
   ]
  },
  {
   "cell_type": "code",
   "execution_count": null,
   "metadata": {},
   "outputs": [],
   "source": [
    "def mask(image) -> np.ndarray:\n",
    "    return cv2.threshold(image, 0, 255, cv2.THRESH_OTSU)[1].astype(np.uint8)*(230>np.max(image)>100).astype(np.uint8)*255\n",
    "\n",
    "kernel_dilate: np.ndarray = cv2.getStructuringElement(cv2.MORPH_ELLIPSE,(11,23))\n",
    "kernel_erode: np.ndarray = cv2.getStructuringElement(cv2.MORPH_ELLIPSE,(11,29))\n",
    "process: Callable[[np.ndarray], np.ndarray] = lambda image: cv2.morphologyEx(cv2.morphologyEx(mask(image), cv2.MORPH_DILATE, kernel_dilate), cv2.MORPH_ERODE, kernel_erode)*255"
   ]
  },
  {
   "cell_type": "code",
   "execution_count": null,
   "metadata": {},
   "outputs": [],
   "source": [
    "def sigma_delta_conservative_enhanced(\n",
    "        image_stream_grayscale: List[np.ndarray],\n",
    "        alpha: float = 0.1,\n",
    ") -> Iterable[np.ndarray]:\n",
    "    background: np.ndarray = image_stream_grayscale[0].copy().astype(np.float64)\n",
    "    is_background: np.ndarray = np.zeros_like(background, dtype=np.float64)\n",
    "    temperature: float = 1.\n",
    "    for image in image_stream_grayscale:\n",
    "        background = cv2.multiply((1-alpha) * background + alpha * image.astype(np.float64), is_background*(1-temperature)) + cv2.multiply(background, 1-is_background*(1-temperature))\n",
    "        diff = cv2.absdiff(image, background.astype(np.uint8))\n",
    "        is_background = is_background*(temperature) + (1-temperature)*(diff < 10).astype(np.float64)\n",
    "        temperature -= 0.2\n",
    "        if temperature < 0.1:\n",
    "            temperature = 0\n",
    "        yield diff"
   ]
  },
  {
   "cell_type": "code",
   "execution_count": null,
   "metadata": {},
   "outputs": [],
   "source": [
    "def VIBE(\n",
    "        image_stream_grayscale: List[np.ndarray], \n",
    "        samples_per_pixel: int = 20,\n",
    "        radius: int = 20,\n",
    "        min_match_count: int = 2,\n",
    "        random_subsample: int = 16,\n",
    ") -> Iterable[np.ndarray]:\n",
    "    samples = np.zeros((image_stream_grayscale[0].shape[0], image_stream_grayscale[0].shape[1], samples_per_pixel), dtype=np.uint8)\n",
    "    for image in image_stream_grayscale:\n",
    "        background = np.zeros_like(image, dtype=np.uint8)\n",
    "        images = np.stack([image for _ in range(samples_per_pixel)], axis=2)\n",
    "        dist = np.abs(samples-images)\n",
    "        count = np.sum(dist < radius, axis=2)\n",
    "        background = np.where(count >= min_match_count, 0, 255)     \n",
    "        samples[:, :, np.random.randint(0, samples_per_pixel)] = image\n",
    "        if np.random.random()* random_subsample < 1: samples[:,:, np.random.randint(0, samples_per_pixel)] = np.roll(image.copy(), np.random.randint(-1, 2), axis=np.random.randint(0, 2))\n",
    "\n",
    "        yield background"
   ]
  },
  {
   "cell_type": "code",
   "execution_count": null,
   "metadata": {},
   "outputs": [],
   "source": [
    "sg = lambda x: 1 if x else -1\n",
    "\n",
    "def sgn(x: np.ndarray) -> np.ndarray:\n",
    "    t = x.copy()\n",
    "    t[x < 0] = -1\n",
    "    t[x >= 0] = 1\n",
    "    return t\n",
    "\n",
    "\n",
    "\n",
    "def PBAS(\n",
    "        image_stream_grayscale: List[np.ndarray], \n",
    "        samples_per_pixel: int = 35,\n",
    "        radius: int = 5,\n",
    "        min_match_count: int = 2,\n",
    "        r_inc_drc: float = 0.05,\n",
    "        r_low : int = 18,\n",
    "        r_scale = 5,\n",
    "        T_dec = 0.05,\n",
    "        T_inc = 1.05,\n",
    "        T_lower = 2,\n",
    "        T_upper = 200,\n",
    ") -> Iterable[np.ndarray]:\n",
    "    samples = np.zeros((image_stream_grayscale[0].shape[0], image_stream_grayscale[0].shape[1], samples_per_pixel), dtype=np.uint8)\n",
    "    for image in image_stream_grayscale:\n",
    "        background_model = np.zeros_like(image, dtype=np.uint8)\n",
    "        samples = np.zeros((image.shape[0], image.shape[1], samples_per_pixel), dtype=np.uint8)\n",
    "        radius = np.ones_like(image, dtype=np.uint8) * radius\n",
    "        acc = np.zeros_like(image, dtype=np.uint8)\n",
    "        D = np.zeros((image.shape[0], image.shape[1], samples_per_pixel) , dtype=np.uint8)\n",
    "        R = np.ones_like(image, dtype=np.uint8) * r_low\n",
    "        T = np.ones_like(image, dtype=np.uint8) * T_lower\n",
    "        background = np.zeros_like(image, dtype=np.uint8)\n",
    "\n",
    "        images = np.stack([image for _ in range(samples_per_pixel)], axis=2)\n",
    "        dist = np.abs(samples-images)\n",
    "        count = np.sum(dist < np.stack([R for _ in range(samples_per_pixel)], axis=2), axis=2)\n",
    "        background = np.where(count >= min_match_count, 0, 255)\n",
    "\n",
    "        yield background     \n",
    "\n",
    "\n",
    "        mask = np.random.uniform(0, 1, size=image.shape) > T\n",
    "\n",
    "        r = np.random.randint(0, samples_per_pixel)\n",
    "        rolled = r = np.random.randint(0, samples_per_pixel)\n",
    "        axis = np.random.randint(0, 2)\n",
    "        dist = np.random.randint(-1, 2)\n",
    "\n",
    "        samples[:, :, r] = image*mask + samples[:, :, r]*(1-mask)\n",
    "        samples[:, :, rolled] = np.roll(image.copy(), dist, axis=axis)*mask + samples[:, :, rolled]*(1-mask)\n",
    "\n",
    "        r = np.random.randint(0, samples_per_pixel)\n",
    "        D[:, :, r] = np.min([np.sum(np.abs(image-samples[:,:, i]) for i in range(samples_per_pixel))])*mask + D[:, :, r]*(1-mask)\n",
    "        acc = np.mean(D, axis=2)\n",
    "        R = R*(1+sgn(R - r_scale*acc)*r_inc_drc)* mask + R*(1-mask)\n",
    "\n",
    "        D[:,:, rolled] = np.min([np.sum(np.abs(image-samples[:,:, i]) for i in range(samples_per_pixel))])*mask + D[:,:, rolled]*(1-mask)\n",
    "        R = R*(1+sgn(R - r_scale*np.mean(D, axis=2))*r_inc_drc)* mask + R*(1-mask)\n",
    "\n",
    "\n",
    "        T = np.minimum(np.maximum(T_lower, T + sgn(background_model)* T_inc/ (0.01+acc)), T_upper)"
   ]
  },
  {
   "cell_type": "code",
   "execution_count": null,
   "metadata": {},
   "outputs": [],
   "source": []
  }
 ],
 "metadata": {
  "language_info": {
   "name": "python"
  },
  "orig_nbformat": 4
 },
 "nbformat": 4,
 "nbformat_minor": 2
}
