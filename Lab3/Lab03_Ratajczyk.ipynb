{
 "cells": [
  {
   "attachments": {},
   "cell_type": "markdown",
   "metadata": {},
   "source": [
    "## Ratajczyk\n",
    "# Lab 3"
   ]
  },
  {
   "cell_type": "code",
   "execution_count": 36,
   "metadata": {},
   "outputs": [],
   "source": [
    "import cv2\n",
    "import matplotlib.pyplot as plt\n",
    "import numpy as np\n",
    "from typing import List, Iterable, Callable\n",
    "from utils import load_sequence, visualize, calculate_metrics, visualize_bounding_box"
   ]
  },
  {
   "cell_type": "code",
   "execution_count": 37,
   "metadata": {},
   "outputs": [],
   "source": [
    "PEDESTRIAN_PATH: str = r\"C:\\Users\\igor\\Desktop\\Studia\\I\\Semestr6\\ZAW\\Lab2\\pedestrian\"\n",
    "OFFICE_PATH: str = r\"C:\\Users\\igor\\Desktop\\Studia\\I\\Semestr6\\ZAW\\Lab2\\office\"\n",
    "HIGHWAY_PATH: str = r\"C:\\Users\\igor\\Desktop\\Studia\\I\\Semestr6\\ZAW\\Lab2\\highway\\highway\""
   ]
  },
  {
   "attachments": {},
   "cell_type": "markdown",
   "metadata": {},
   "source": [
    "Buffor"
   ]
  },
  {
   "cell_type": "code",
   "execution_count": 38,
   "metadata": {},
   "outputs": [],
   "source": [
    "def buffor_method(\n",
    "        image_stream_grayscale: List[np.ndarray],\n",
    "        buffor_size: int,\n",
    "        image_width: int,\n",
    "        image_height: int,\n",
    "        process_function: Callable[[np.ndarray, int], np.ndarray] = np.mean\n",
    ") -> Iterable[np.ndarray]:\n",
    "    buffor_idx: int = 0\n",
    "    buffor: np.ndarray = np.zeros((image_height, image_width, buffor_size), dtype=np.uint8)\n",
    "    for image in image_stream_grayscale:\n",
    "        buffor[:, :, buffor_idx] = image\n",
    "        processed_image = process_function(buffor, axis=2).astype(np.uint8)\n",
    "        yield cv2.absdiff(processed_image, buffor[:, :, buffor_idx])\n",
    "        buffor_idx = (buffor_idx + 1) % buffor_size"
   ]
  },
  {
   "attachments": {},
   "cell_type": "markdown",
   "metadata": {},
   "source": [
    "$\\Sigma\\Delta$"
   ]
  },
  {
   "cell_type": "code",
   "execution_count": 40,
   "metadata": {},
   "outputs": [],
   "source": [
    "def sigma_delta(\n",
    "        image_stream_grayscale: List[np.ndarray],\n",
    "        alpha: float = 0.01,\n",
    "        mimic_mean: bool = True\n",
    ") -> Iterable[np.ndarray]:\n",
    "    background: np.ndarray = image_stream_grayscale[0].copy().astype(np.float64)\n",
    "    if mimic_mean:\n",
    "        for image in image_stream_grayscale:\n",
    "            background = (1 - alpha) * background + alpha * image.astype(np.float64)\n",
    "            yield cv2.absdiff(image, background.astype(np.uint8))\n",
    "    else:\n",
    "        for image in image_stream_grayscale:\n",
    "            background = background - (background > image).astype(np.uint8) + (background < image).astype(np.uint8)\n",
    "            yield cv2.absdiff(image, background.astype(np.uint8))"
   ]
  },
  {
   "attachments": {},
   "cell_type": "markdown",
   "metadata": {},
   "source": [
    "Policy"
   ]
  },
  {
   "cell_type": "code",
   "execution_count": 41,
   "metadata": {},
   "outputs": [],
   "source": [
    "def sigma_delta_conservative(\n",
    "        image_stream_grayscale: List[np.ndarray],\n",
    "        alpha: float = 0.01,\n",
    ") -> Iterable[np.ndarray]:\n",
    "    background: np.ndarray = image_stream_grayscale[0].copy().astype(np.float64)\n",
    "    is_background: np.ndarray = np.ones_like(background, dtype=np.float64)\n",
    "    for image in image_stream_grayscale:\n",
    "        background = cv2.multiply((1-alpha) * background + alpha * image.astype(np.float64), is_background) + cv2.multiply(background, 1-is_background)\n",
    "        diff = cv2.absdiff(image, background.astype(np.uint8))\n",
    "        is_background = (diff < 10).astype(np.float64)\n",
    "        yield diff"
   ]
  },
  {
   "cell_type": "markdown",
   "metadata": {},
   "source": [
    "MoG"
   ]
  },
  {
   "cell_type": "code",
   "execution_count": 42,
   "metadata": {},
   "outputs": [],
   "source": [
    "def mixture_of_gaussians(\n",
    "        image_stream_grayscale: List[np.ndarray],\n",
    "        init_mask: np.ndarray,\n",
    "        history: int = 100,\n",
    "        alpha: float = 0.01,\n",
    "        detect_shadows: bool = False,\n",
    "        threshold: float = 16\n",
    ") -> Iterable[np.ndarray]:\n",
    "    background_model = cv2.createBackgroundSubtractorMOG2(history=history, varThreshold=threshold, detectShadows=detect_shadows)\n",
    "    mask: np.ndarray = init_mask.copy()\n",
    "    for image in image_stream_grayscale:\n",
    "        mask = background_model.apply(image, learningRate=alpha)\n",
    "        yield mask"
   ]
  },
  {
   "cell_type": "markdown",
   "metadata": {},
   "source": [
    "KNN"
   ]
  },
  {
   "cell_type": "code",
   "execution_count": 43,
   "metadata": {},
   "outputs": [],
   "source": [
    "def knn(\n",
    "        image_stream_grayscale: List[np.ndarray],\n",
    "        init_mask: np.ndarray,\n",
    "        history: int = 100,\n",
    "        alpha: float = 0.01,\n",
    "        detect_shadows: bool = False,\n",
    ") -> Iterable[np.ndarray]:\n",
    "    background_model = cv2.createBackgroundSubtractorKNN(history=history, detectShadows=detect_shadows)\n",
    "    mask: np.ndarray = init_mask.copy()\n",
    "    for image in image_stream_grayscale:\n",
    "        mask = background_model.apply(image, learningRate=alpha)\n",
    "        mask = cv2.morphologyEx(mask, cv2.MORPH_OPEN, np.ones((3, 3), np.uint8))\n",
    "        yield mask"
   ]
  },
  {
   "cell_type": "code",
   "execution_count": 44,
   "metadata": {},
   "outputs": [],
   "source": [
    "def sigma_delta_conservative_enhanced(\n",
    "        image_stream_grayscale: List[np.ndarray],\n",
    "        alpha: float = 0.1,\n",
    ") -> Iterable[np.ndarray]:\n",
    "    background: np.ndarray = image_stream_grayscale[0].copy().astype(np.float64)\n",
    "    is_background: np.ndarray = np.zeros_like(background, dtype=np.float64)\n",
    "    temperature: float = 1.\n",
    "    for image in image_stream_grayscale:\n",
    "        background = cv2.multiply((1-alpha) * background + alpha * image.astype(np.float64), is_background*(1-temperature)) + cv2.multiply(background, 1-is_background*(1-temperature))\n",
    "        diff = cv2.absdiff(image, background.astype(np.uint8))\n",
    "        is_background = is_background*(temperature) + (1-temperature)*(diff < 10).astype(np.float64)\n",
    "        temperature -= 0.2\n",
    "        if temperature < 0.1:\n",
    "            temperature = 0\n",
    "        yield diff"
   ]
  },
  {
   "cell_type": "code",
   "execution_count": 45,
   "metadata": {},
   "outputs": [],
   "source": [
    "def VIBE(\n",
    "        image_stream_grayscale: List[np.ndarray], \n",
    "        samples_per_pixel: int = 20,\n",
    "        radius: int = 20,\n",
    "        min_match_count: int = 2,\n",
    "        random_subsample: int = 16,\n",
    ") -> Iterable[np.ndarray]:\n",
    "    samples = np.zeros((image_stream_grayscale[0].shape[0], image_stream_grayscale[0].shape[1], samples_per_pixel), dtype=np.uint8)\n",
    "    for image in image_stream_grayscale:\n",
    "        background = np.zeros_like(image, dtype=np.uint8)\n",
    "        images = np.stack([image for _ in range(samples_per_pixel)], axis=2)\n",
    "        dist = np.abs(samples-images)\n",
    "        count = np.sum(dist < radius, axis=2)\n",
    "        background = np.where(count >= min_match_count, 0, 255)     \n",
    "        samples[:, :, np.random.randint(0, samples_per_pixel)] = image\n",
    "        if np.random.random()* random_subsample < 1: samples[:,:, np.random.randint(0, samples_per_pixel)] = np.roll(image.copy(), np.random.randint(-1, 2), axis=np.random.randint(0, 2))\n",
    "\n",
    "        yield background\n"
   ]
  },
  {
   "cell_type": "code",
   "execution_count": 34,
   "metadata": {},
   "outputs": [],
   "source": [
    "sg = lambda x: 1 if x else -1\n",
    "\n",
    "def sgn(x: np.ndarray) -> np.ndarray:\n",
    "    t = x.copy()\n",
    "    t[x < 0] = -1\n",
    "    t[x >= 0] = 1\n",
    "    return t\n",
    "\n",
    "\n",
    "\n",
    "def PBAS(\n",
    "        image_stream_grayscale: List[np.ndarray], \n",
    "        samples_per_pixel: int = 35,\n",
    "        radius: int = 5,\n",
    "        min_match_count: int = 2,\n",
    "        r_inc_drc: float = 0.05,\n",
    "        r_low : int = 18,\n",
    "        r_scale = 5,\n",
    "        T_dec = 0.05,\n",
    "        T_inc = 1.05,\n",
    "        T_lower = 2,\n",
    "        T_upper = 200,\n",
    ") -> Iterable[np.ndarray]:\n",
    "    samples = np.zeros((image_stream_grayscale[0].shape[0], image_stream_grayscale[0].shape[1], samples_per_pixel), dtype=np.uint8)\n",
    "    for image in image_stream_grayscale:\n",
    "        background_model = np.zeros_like(image, dtype=np.uint8)\n",
    "        samples = np.zeros((image.shape[0], image.shape[1], samples_per_pixel), dtype=np.uint8)\n",
    "        radius = np.ones_like(image, dtype=np.uint8) * radius\n",
    "        acc = np.zeros_like(image, dtype=np.uint8)\n",
    "        D = np.zeros((image.shape[0], image.shape[1], samples_per_pixel) , dtype=np.uint8)\n",
    "        R = np.ones_like(image, dtype=np.uint8) * r_low\n",
    "        T = np.ones_like(image, dtype=np.uint8) * T_lower\n",
    "        background = np.zeros_like(image, dtype=np.uint8)\n",
    "\n",
    "        images = np.stack([image for _ in range(samples_per_pixel)], axis=2)\n",
    "        dist = np.abs(samples-images)\n",
    "        count = np.sum(dist < np.stack([R for _ in range(samples_per_pixel)], axis=2), axis=2)\n",
    "        background = np.where(count >= min_match_count, 0, 255)\n",
    "\n",
    "        yield background     \n",
    "\n",
    "\n",
    "        mask = np.random.uniform(0, 1, size=image.shape) > T\n",
    "\n",
    "        r = np.random.randint(0, samples_per_pixel)\n",
    "        rolled = r = np.random.randint(0, samples_per_pixel)\n",
    "        axis = np.random.randint(0, 2)\n",
    "        dist = np.random.randint(-1, 2)\n",
    "\n",
    "        samples[:, :, r] = image*mask + samples[:, :, r]*(1-mask)\n",
    "        samples[:, :, rolled] = np.roll(image.copy(), dist, axis=axis)*mask + samples[:, :, rolled]*(1-mask)\n",
    "\n",
    "        r = np.random.randint(0, samples_per_pixel)\n",
    "        D[:, :, r] = np.min([np.sum(np.abs(image-samples[:,:, i]) for i in range(samples_per_pixel))])*mask + D[:, :, r]*(1-mask)\n",
    "        acc = np.mean(D, axis=2)\n",
    "        R = R*(1+sgn(R - r_scale*acc)*r_inc_drc)* mask + R*(1-mask)\n",
    "\n",
    "        D[:,:, rolled] = np.min([np.sum(np.abs(image-samples[:,:, i]) for i in range(samples_per_pixel))])*mask + D[:,:, rolled]*(1-mask)\n",
    "        R = R*(1+sgn(R - r_scale*np.mean(D, axis=2))*r_inc_drc)* mask + R*(1-mask)\n",
    "\n",
    "\n",
    "        T = np.minimum(np.maximum(T_lower, T + sgn(background_model)* T_inc/ (0.01+acc)), T_upper)\n",
    "\n",
    "                \n"
   ]
  },
  {
   "attachments": {},
   "cell_type": "markdown",
   "metadata": {},
   "source": [
    "Comparison"
   ]
  },
  {
   "cell_type": "code",
   "execution_count": 4,
   "metadata": {},
   "outputs": [],
   "source": [
    "pedestrian_sequence: List[np.ndarray] = load_sequence(PEDESTRIAN_PATH)\n",
    "pedestrian_ground_truth: List[np.ndarray] = load_sequence(PEDESTRIAN_PATH, False)\n",
    "pedestrian_colour : List[np.ndarray] = load_sequence(PEDESTRIAN_PATH, True, False)\n",
    "\n",
    "office_sequence: List[np.ndarray] = load_sequence(OFFICE_PATH)\n",
    "office_ground_truth: List[np.ndarray] = load_sequence(OFFICE_PATH, False)\n",
    "office_colour : List[np.ndarray] = load_sequence(OFFICE_PATH, True, False)\n",
    "\n",
    "highway_sequence: List[np.ndarray] = load_sequence(HIGHWAY_PATH)\n",
    "highway_ground_truth: List[np.ndarray] = load_sequence(HIGHWAY_PATH, False)\n",
    "highway_colour : List[np.ndarray] = load_sequence(HIGHWAY_PATH, True, False)"
   ]
  },
  {
   "cell_type": "markdown",
   "metadata": {},
   "source": [
    "F1 score comparison"
   ]
  },
  {
   "cell_type": "code",
   "execution_count": 46,
   "metadata": {},
   "outputs": [],
   "source": [
    "def mask(image) -> np.ndarray:\n",
    "    return cv2.threshold(image, 0, 255, cv2.THRESH_OTSU)[1].astype(np.uint8)*(230>np.max(image)>100).astype(np.uint8)*255\n",
    "\n",
    "kernel_dilate: np.ndarray = cv2.getStructuringElement(cv2.MORPH_ELLIPSE,(11,23))\n",
    "kernel_erode: np.ndarray = cv2.getStructuringElement(cv2.MORPH_ELLIPSE,(11,29))\n",
    "process: Callable[[np.ndarray], np.ndarray] = lambda image: cv2.morphologyEx(cv2.morphologyEx(mask(image), cv2.MORPH_DILATE, kernel_dilate), cv2.MORPH_ERODE, kernel_erode)*255"
   ]
  },
  {
   "cell_type": "code",
   "execution_count": 47,
   "metadata": {},
   "outputs": [],
   "source": [
    "visualize_bounding_box(pedestrian_colour, [process(image) for image in buffor_method(pedestrian_sequence, 100, 360, 240)])"
   ]
  },
  {
   "cell_type": "code",
   "execution_count": 30,
   "metadata": {},
   "outputs": [
    {
     "name": "stdout",
     "output_type": "stream",
     "text": [
      "Buffor mean method for pedestrian: 0.21378798629261359\n",
      "Buffor mean method for office: 0.410860339806031\n",
      "Buffor mean method for highway: 0.5683832618808403\n"
     ]
    }
   ],
   "source": [
    "print(f\"Buffor mean method for pedestrian: {calculate_metrics([process(image) for image in buffor_method(pedestrian_sequence, 100, 360, 240)], pedestrian_ground_truth)[0]}\")\n",
    "print(f\"Buffor mean method for office: {calculate_metrics([process(image) for image in buffor_method(office_sequence, 100, 360, 240)], office_ground_truth)[0]}\")\n",
    "print(f\"Buffor mean method for highway: {calculate_metrics([process(image) for image in buffor_method(highway_sequence, 100, 320, 240)], highway_ground_truth)[0]}\")"
   ]
  },
  {
   "cell_type": "code",
   "execution_count": 31,
   "metadata": {},
   "outputs": [
    {
     "name": "stdout",
     "output_type": "stream",
     "text": [
      "Buffor mean method for pedestrian: 0.7354100659486974\n",
      "Buffor mean method for office: 0.2996008336983528\n",
      "Buffor mean method for highway: 0.8150766578490902\n"
     ]
    }
   ],
   "source": [
    "print(f\"Buffor mean method for pedestrian: {calculate_metrics([process(image) for image in buffor_method(pedestrian_sequence, 100, 360, 240, np.median)], pedestrian_ground_truth)[0]}\")\n",
    "print(f\"Buffor mean method for office: {calculate_metrics([process(image) for image in buffor_method(office_sequence, 100, 360, 240, np.median)], office_ground_truth)[0]}\")\n",
    "print(f\"Buffor mean method for highway: {calculate_metrics([process(image) for image in buffor_method(highway_sequence, 100, 320, 240, np.median)], highway_ground_truth)[0]}\")"
   ]
  },
  {
   "cell_type": "code",
   "execution_count": 16,
   "metadata": {},
   "outputs": [],
   "source": [
    "visualize_bounding_box(pedestrian_colour, [process(image) for image in buffor_method(pedestrian_sequence, 100, 360, 240, np.median)])"
   ]
  },
  {
   "attachments": {},
   "cell_type": "markdown",
   "metadata": {},
   "source": [
    "$\\alpha$ parameter fine-tuning"
   ]
  },
  {
   "cell_type": "code",
   "execution_count": 26,
   "metadata": {},
   "outputs": [
    {
     "data": {
      "image/png": "[encoded data removed]",
      "text/plain": [
       "<Figure size 640x480 with 1 Axes>"
      ]
     },
     "metadata": {},
     "output_type": "display_data"
    }
   ],
   "source": [
    "alphas = [1e-4, 1e-3, 1e-2, 1e-1, .2, .5]\n",
    "values = [calculate_metrics([process(image) for image in sigma_delta(pedestrian_sequence, alpha=alpha)], pedestrian_ground_truth)[0] for alpha in alphas]\n",
    "\n",
    "plt.plot(alphas, values)\n",
    "plt.xlabel(\"alpha\")\n",
    "plt.ylabel(\"F1 score\")\n",
    "plt.show()"
   ]
  },
  {
   "cell_type": "code",
   "execution_count": 18,
   "metadata": {},
   "outputs": [
    {
     "name": "stdout",
     "output_type": "stream",
     "text": [
      "Sigma-delta mean-mimic method for pedestrian: 0.7309719807488301\n",
      "Sigma-delta mean-mimic method for office: 0.5436423038102987\n",
      "Sigma-delta mean-mimic method for highway: 0.8226961938358833\n"
     ]
    }
   ],
   "source": [
    "print(f\"Sigma-delta mean-mimic method for pedestrian: {calculate_metrics([process(image) for image in sigma_delta(pedestrian_sequence)], pedestrian_ground_truth)[0]}\")\n",
    "print(f\"Sigma-delta mean-mimic method for office: {calculate_metrics([process(image) for image in sigma_delta(office_sequence)], office_ground_truth)[0]}\")\n",
    "print(f\"Sigma-delta mean-mimic method for highway: {calculate_metrics([process(image) for image in sigma_delta(highway_sequence)], highway_ground_truth)[0]}\")"
   ]
  },
  {
   "cell_type": "code",
   "execution_count": 19,
   "metadata": {},
   "outputs": [],
   "source": [
    "visualize([process(image) for image in sigma_delta(pedestrian_sequence)])"
   ]
  },
  {
   "cell_type": "code",
   "execution_count": 20,
   "metadata": {},
   "outputs": [
    {
     "name": "stdout",
     "output_type": "stream",
     "text": [
      "Sigma-delta median-mimic method for pedestrian: 0.7698851645159699\n",
      "Sigma-delta median-mimic method for office: 0.43684414758916595\n",
      "Sigma-delta median-mimic method for highway: 0.8287966818264206\n"
     ]
    }
   ],
   "source": [
    "print(f\"Sigma-delta median-mimic method for pedestrian: {calculate_metrics([process(image) for image in sigma_delta(pedestrian_sequence, mimic_mean=False)], pedestrian_ground_truth)[0]}\")\n",
    "print(f\"Sigma-delta median-mimic method for office: {calculate_metrics([process(image) for image in sigma_delta(office_sequence, mimic_mean=False)], office_ground_truth)[0]}\")\n",
    "print(f\"Sigma-delta median-mimic method for highway: {calculate_metrics([process(image) for image in sigma_delta(highway_sequence, mimic_mean=False)], highway_ground_truth)[0]}\")"
   ]
  },
  {
   "cell_type": "code",
   "execution_count": 55,
   "metadata": {},
   "outputs": [
    {
     "name": "stdout",
     "output_type": "stream",
     "text": [
      "Conservative approach for sigma-delta mean-mimic method for pedestrian: 0.7751106824606134\n",
      "Conservative approach for sigma-delta mean-mimic method for office: 0.5414354622808929\n",
      "Conservative approach for sigma-delta mean-mimic method for highway: 0.6554275838812151\n"
     ]
    }
   ],
   "source": [
    "print(f\"Conservative approach for sigma-delta mean-mimic method for pedestrian: {calculate_metrics([process(image) for image in sigma_delta_conservative(pedestrian_sequence)], pedestrian_ground_truth)[0]}\")\n",
    "print(f\"Conservative approach for sigma-delta mean-mimic method for office: {calculate_metrics([process(image) for image in sigma_delta_conservative(office_sequence)], office_ground_truth)[0]}\")\n",
    "print(f\"Conservative approach for sigma-delta mean-mimic method for highway: {calculate_metrics([process(image) for image in sigma_delta_conservative(highway_sequence)], highway_ground_truth)[0]}\")"
   ]
  },
  {
   "cell_type": "code",
   "execution_count": 24,
   "metadata": {},
   "outputs": [
    {
     "name": "stdout",
     "output_type": "stream",
     "text": [
      "MoG method for pedestrian: 0.565975459124566\n",
      "MoG method for office: 0.1474553172577852\n",
      "MoG method for highway: 0.6417823118368964\n"
     ]
    }
   ],
   "source": [
    "print(f\"MoG method for pedestrian: {calculate_metrics([image for image in mixture_of_gaussians(pedestrian_sequence, pedestrian_sequence[0], detect_shadows=False)], pedestrian_ground_truth)[0]}\")\n",
    "print(f\"MoG method for office: {calculate_metrics([image for image in mixture_of_gaussians(office_sequence, office_sequence[0], detect_shadows=False)], office_ground_truth)[0]}\")\n",
    "print(f\"MoG method for highway: {calculate_metrics([image for image in mixture_of_gaussians(highway_sequence, highway_sequence[0], detect_shadows=False)], highway_ground_truth)[0]}\")\n"
   ]
  },
  {
   "cell_type": "code",
   "execution_count": 25,
   "metadata": {},
   "outputs": [
    {
     "name": "stdout",
     "output_type": "stream",
     "text": [
      "KNN method for pedestrian: 0.38491767829399126\n",
      "KNN method for office: 0.2264554458877772\n",
      "KNN method for highway: 0.6553705603488084\n"
     ]
    }
   ],
   "source": [
    "print(f\"KNN method for pedestrian: {calculate_metrics([image for image in knn(pedestrian_sequence, pedestrian_sequence[0], detect_shadows=False)], pedestrian_ground_truth)[0]}\")\n",
    "print(f\"KNN method for office: {calculate_metrics([image for image in knn(office_sequence, office_sequence[0], detect_shadows=False)], office_ground_truth)[0]}\")\n",
    "print(f\"KNN method for highway: {calculate_metrics([image for image in knn(highway_sequence, highway_sequence[0], detect_shadows=False)], highway_ground_truth)[0]}\")"
   ]
  },
  {
   "cell_type": "code",
   "execution_count": 19,
   "metadata": {},
   "outputs": [
    {
     "name": "stdout",
     "output_type": "stream",
     "text": [
      "VIBE method for pedestrian: 0.21989116288416022\n"
     ]
    }
   ],
   "source": [
    "print(f\"VIBE method for pedestrian: {calculate_metrics([image for image in VIBE(pedestrian_sequence)], pedestrian_ground_truth)[0]}\")"
   ]
  },
  {
   "cell_type": "code",
   "execution_count": 35,
   "metadata": {},
   "outputs": [
    {
     "name": "stderr",
     "output_type": "stream",
     "text": [
      "C:\\Users\\igor\\AppData\\Local\\Temp\\ipykernel_7828\\505360864.py:54: DeprecationWarning: Calling np.sum(generator) is deprecated, and in the future will give a different result. Use np.sum(np.fromiter(generator)) or the python sum builtin instead.\n",
      "  D[:, :, r] = np.min([np.sum(np.abs(image-samples[:,:, i]) for i in range(samples_per_pixel))])*mask + D[:, :, r]*(1-mask)\n",
      "C:\\Users\\igor\\AppData\\Local\\Temp\\ipykernel_7828\\505360864.py:58: DeprecationWarning: Calling np.sum(generator) is deprecated, and in the future will give a different result. Use np.sum(np.fromiter(generator)) or the python sum builtin instead.\n",
      "  D[:,:, rolled] = np.min([np.sum(np.abs(image-samples[:,:, i]) for i in range(samples_per_pixel))])*mask + D[:,:, rolled]*(1-mask)\n"
     ]
    },
    {
     "name": "stdout",
     "output_type": "stream",
     "text": [
      "PBAS method for pedestrian: 0.03156401378391493\n"
     ]
    }
   ],
   "source": [
    "print(f\"PBAS method for pedestrian: {calculate_metrics([image for image in PBAS(pedestrian_sequence)], pedestrian_ground_truth)[0]}\")"
   ]
  },
  {
   "cell_type": "code",
   "execution_count": 92,
   "metadata": {},
   "outputs": [
    {
     "name": "stdout",
     "output_type": "stream",
     "text": [
      "Conservative approach for sigma-delta mean-mimic method for pedestrian: 0.046230491346539795\n",
      "Conservative approach for sigma-delta mean-mimic method for pedestrian but enhanced: 0.19534214662285046\n"
     ]
    }
   ],
   "source": [
    "print(f\"Conservative approach for sigma-delta mean-mimic method for pedestrian: {calculate_metrics([process(image) for image in sigma_delta_conservative(office_sequence[250:])], office_sequence[250:])[0]}\")\n",
    "print(f\"Conservative approach for sigma-delta mean-mimic method for pedestrian but enhanced: {calculate_metrics([process(image) for image in sigma_delta_conservative_enhanced(office_sequence[250:])], office_sequence[250:])[0]}\")"
   ]
  }
 ],
 "metadata": {
  "kernelspec": {
   "display_name": "base",
   "language": "python",
   "name": "python3"
  },
  "language_info": {
   "codemirror_mode": {
    "name": "ipython",
    "version": 3
   },
   "file_extension": ".py",
   "mimetype": "text/x-python",
   "name": "python",
   "nbconvert_exporter": "python",
   "pygments_lexer": "ipython3",
   "version": "3.8.8"
  },
  "orig_nbformat": 4
 },
 "nbformat": 4,
 "nbformat_minor": 2
}
